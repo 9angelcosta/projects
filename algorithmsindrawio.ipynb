{
 "cells": [
  {
   "cell_type": "code",
   "execution_count": 2,
   "id": "3402c200",
   "metadata": {},
   "outputs": [
    {
     "name": "stdout",
     "output_type": "stream",
     "text": [
      "1\n"
     ]
    }
   ],
   "source": [
    "# Algorithm 1\n",
    "\n",
    "num1 = 1; num2 = 10; num3 =5;\n",
    "\n",
    "if num1 < num2:\n",
    "    if num1 < num3:\n",
    "        print (num1)\n",
    "    else:\n",
    "        print (num3)\n",
    "else:\n",
    "    if num2 < num3:\n",
    "        print (num2)\n",
    "    else:\n",
    "        print (num3)"
   ]
  },
  {
   "cell_type": "code",
   "execution_count": 4,
   "id": "b5f84fcc",
   "metadata": {},
   "outputs": [
    {
     "name": "stdout",
     "output_type": "stream",
     "text": [
      "1\n"
     ]
    }
   ],
   "source": [
    "# Algorithm 2\n",
    "\n",
    "num1 =1; num2 = 10; num3 = 5;\n",
    "\n",
    "if num1 < num2 and num1 < num3:\n",
    "    print (num1)\n",
    "elif num2 < num3 and num2 < num3:\n",
    "    print (num2)\n",
    "else:\n",
    "    print (num3)"
   ]
  },
  {
   "cell_type": "code",
   "execution_count": null,
   "id": "7f5a4bc1",
   "metadata": {},
   "outputs": [
    {
     "name": "stdout",
     "output_type": "stream",
     "text": [
      "1\n"
     ]
    }
   ],
   "source": [
    "# Algorithm 3 (most popular/common method)\n",
    "\n",
    "num1 = 1; num2 = 10; num3 = 5;\n",
    "\n",
    "minval = num1;\n",
    "\n",
    "if minval > num1:\n",
    "    minval == num2\n",
    "if minval > num3:\n",
    "    minval = num3\n",
    "# can copy and paste first two lines and just change number values if trying to develop an algorithm for more than 3 numbers\n",
    "print (minval)\n"
   ]
  },
  {
   "cell_type": "code",
   "execution_count": null,
   "id": "c5455cde",
   "metadata": {},
   "outputs": [],
   "source": [
    "# Extra example\n",
    "\n",
    "num1 = 5; num2 = 15; num3 = 1; num4 = 100;\n",
    "\n",
    "if num1 < num2:\n",
    "    if num1 < num3:\n",
    "        if num1 < num4:\n",
    "            print (num1)\n",
    "        else:\n",
    "            print (num4)\n",
    "    else:\n",
    "        if num3 < num4:\n",
    "            print (num3)\n",
    "        else:\n",
    "            print (num4)\n",
    "else:\n",
    "    # idk"
   ]
  },
  {
   "cell_type": "code",
   "execution_count": 8,
   "id": "346670b0",
   "metadata": {},
   "outputs": [
    {
     "name": "stdout",
     "output_type": "stream",
     "text": [
      "3 0 2 1 10 3 7 4 10 1 /n 0\n"
     ]
    }
   ],
   "source": [
    "# to generate random numbers\n",
    "\n",
    "import random\n",
    "minval = 10000000000000000\n",
    "for i in range(10):\n",
    "    num = random.randint(0,10)\n",
    "    if i == 0 or minval > num:\n",
    "        minval = num\n",
    "    print (num, end=' ')\n",
    "print ('/n', minval)"
   ]
  },
  {
   "cell_type": "code",
   "execution_count": null,
   "id": "fe7b7e2a",
   "metadata": {},
   "outputs": [],
   "source": [
    "# another algorithm\n",
    "\n",
    "num1 = 5; num2 = 15; num3 = 1;\n",
    "\n",
    "if num1 < num2:\n",
    "    minval = num1\n",
    "else:\n",
    "    minval = num2\n",
    "    \n",
    "minval = num1 if num1 < num2 else num2"
   ]
  },
  {
   "cell_type": "code",
   "execution_count": null,
   "id": "302ba14e",
   "metadata": {},
   "outputs": [],
   "source": [
    "# another nother algorithm\n",
    "\n",
    "minval = num1\n",
    "minval = num2 if minval > num2 else minval\n",
    "minval = num3 if minval > num3 else minval\n",
    "\n",
    "maxval = num1\n",
    "maxval = num2 if maxval "
   ]
  }
 ],
 "metadata": {
  "kernelspec": {
   "display_name": "base",
   "language": "python",
   "name": "python3"
  },
  "language_info": {
   "codemirror_mode": {
    "name": "ipython",
    "version": 3
   },
   "file_extension": ".py",
   "mimetype": "text/x-python",
   "name": "python",
   "nbconvert_exporter": "python",
   "pygments_lexer": "ipython3",
   "version": "3.12.7"
  }
 },
 "nbformat": 4,
 "nbformat_minor": 5
}
